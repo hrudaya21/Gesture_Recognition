{
 "cells": [
  {
   "cell_type": "markdown",
   "metadata": {},
   "source": [
    "# Gesture Recognition\n",
    "In this group project, you are going to build a 3D Conv model that will be able to predict the 5 gestures correctly. Please import the following libraries to get started."
   ]
  },
  {
   "cell_type": "code",
   "execution_count": 1,
   "metadata": {
    "collapsed": true
   },
   "outputs": [],
   "source": [
    "import numpy as np\n",
    "import os\n",
    "from scipy.misc import imread, imresize\n",
    "import datetime\n",
    "import os\n",
    "import warnings\n",
    "warnings.filterwarnings(\"ignore\", category=DeprecationWarning) "
   ]
  },
  {
   "cell_type": "markdown",
   "metadata": {},
   "source": [
    "We set the random seed so that the results don't vary drastically."
   ]
  },
  {
   "cell_type": "code",
   "execution_count": 2,
   "metadata": {},
   "outputs": [
    {
     "name": "stderr",
     "output_type": "stream",
     "text": [
      "Using TensorFlow backend.\n"
     ]
    }
   ],
   "source": [
    "np.random.seed(30)\n",
    "import random as rn\n",
    "rn.seed(30)\n",
    "from keras import backend as K\n",
    "import tensorflow as tf\n",
    "tf.set_random_seed(30)\n",
    "import keras"
   ]
  },
  {
   "cell_type": "markdown",
   "metadata": {},
   "source": [
    "In this block, you read the folder names for training and validation. You also set the `batch_size` here. Note that you set the batch size in such a way that you are able to use the GPU in full capacity. You keep increasing the batch size until the machine throws an error."
   ]
  },
  {
   "cell_type": "code",
   "execution_count": 3,
   "metadata": {
    "collapsed": true
   },
   "outputs": [],
   "source": [
    "train_doc = np.random.permutation(open('Project_data/train.csv').readlines())\n",
    "val_doc = np.random.permutation(open('Project_data/val.csv').readlines())\n",
    "batch_size = 20 #experiment with the batch size"
   ]
  },
  {
   "cell_type": "markdown",
   "metadata": {},
   "source": [
    "## Generator\n",
    "This is one of the most important part of the code. The overall structure of the generator has been given. In the generator, you are going to preprocess the images as you have images of 2 different dimensions as well as create a batch of video frames. You have to experiment with `img_idx`, `y`,`z` and normalization such that you get high accuracy."
   ]
  },
  {
   "cell_type": "code",
   "execution_count": 4,
   "metadata": {
    "collapsed": true
   },
   "outputs": [],
   "source": [
    "compressed_image_x = 40\n",
    "compressed_image_y = 40\n",
    "image_index = np.arange(1,30,2) # Take alternative images\n",
    "def generator(source_path, folder_list, batch_size):\n",
    "    print( 'Source path = ', source_path, '; batch size =', batch_size)\n",
    "    # Number of Images need to consider \n",
    "    img_idx = image_index #create a list of image numbers you want to use for a particular video\n",
    "    while True:\n",
    "        t = np.random.permutation(folder_list)\n",
    "        num_batches = (len(folder_list))//batch_size# calculate the number of batches\n",
    "        pending_Data = (len(folder_list)) - (num_batches * batch_size)\n",
    "        for batch in range(num_batches): # we iterate over the number of batches\n",
    "            batch_data = np.zeros((batch_size,len(img_idx),compressed_image_x,compressed_image_y,3)) # x is the number of images you use for each video, (y,z) is the final size of the input images and 3 is the number of channels RGB\n",
    "            batch_labels = np.zeros((batch_size,5)) # batch_labels is the one hot representation of the output\n",
    "            for folder in range(batch_size): # iterate over the batch_size\n",
    "                imgs = os.listdir(source_path+'/'+ t[folder + (batch*batch_size)].split(';')[0]) # read all the images in the folder\n",
    "                for idx,item in enumerate(img_idx): #  Iterate iver the frames/images of a folder to read them in\n",
    "                    image = imread(source_path+'/'+ t[folder + (batch*batch_size)].strip().split(';')[0]+'/'+imgs[item]).astype(np.float32)\n",
    "                    #image = imread(source_path+'/'+ t[folder].strip().split(';')[0]+'/'+imgs[item]).astype(np.float32)\n",
    "                    #crop the images and resize them. Note that the images are of 2 different shape \n",
    "                    #and the conv3D will throw error if the inputs in a batch have different shapes\n",
    "                    image = imresize(image,(compressed_image_x,compressed_image_y,3)) # As 1 Image size is 360*360 and another is 120*160. Hence both converted to 100*100\n",
    "                    image_0 = image[:,:, 0]/255\n",
    "                    image_1 = image[:,:, 1]/255\n",
    "                    image_2 = image[:,:, 2]/255\n",
    "                    batch_data[folder,idx,:,:,0] = image_0 #normalise and feed in the image\n",
    "                    batch_data[folder,idx,:,:,1] = image_1 #normalise and feed in the image\n",
    "                    batch_data[folder,idx,:,:,2] = image_2 #normalise and feed in the image\n",
    "                batch_labels[folder, int(t[folder + (batch*batch_size)].strip().split(';')[2])] = 1\n",
    "            yield batch_data, batch_labels #you yield the batch_data and the batch_labels, remember what does yield do\n",
    "        # write the code for the remaining data points which are left after full batches\n",
    "        if(pending_Data > 0):\n",
    "            batch_data = np.zeros((batch_size,len(img_idx),compressed_image_x,compressed_image_y,3)) # x is the number of images you use for each video, (y,z) is the final size of the input images and 3 is the number of channels RGB\n",
    "            batch_labels = np.zeros((batch_size,5))\n",
    "            for folder in range(pending_Data):\n",
    "                imgs = os.listdir(source_path+'/'+ t[folder + (num_batches * batch_size)].split(';')[0]) # read all the images in the folder\n",
    "                for idx,item in enumerate(img_idx): #  Iterate iver the frames/images of a folder to read them in\n",
    "                    image = imread(source_path+'/'+ t[folder + (num_batches * batch_size)].strip().split(';')[0]+'/'+imgs[item]).astype(np.float32)\n",
    "                    #crop the images and resize them. Note that the images are of 2 different shape \n",
    "                    #and the conv3D will throw error if the inputs in a batch have different shapes\n",
    "                    image = imresize(image,(compressed_image_x,compressed_image_y,3)) # As 1 Image size is 360*360 and another is 120*160. Hence both converted to 100*100\n",
    "                    image_0 = image[:,:, 0]/255\n",
    "                    image_1 = image[:,:, 1]/255\n",
    "                    image_2 = image[:,:, 2]/255\n",
    "                    batch_data[folder,idx,:,:,0] = image_0 #normalise and feed in the image\n",
    "                    batch_data[folder,idx,:,:,1] = image_1 #normalise and feed in the image\n",
    "                    batch_data[folder,idx,:,:,2] = image_2 #normalise and feed in the image\n",
    "                batch_labels[folder, int(t[folder + (batch*batch_size)].strip().split(';')[2])] = 1\n",
    "            yield batch_data, batch_labels #you yield the batch_data and the batch_labels, remember what does yield do"
   ]
  },
  {
   "cell_type": "markdown",
   "metadata": {},
   "source": [
    "Note here that a video is represented above in the generator as (number of images, height, width, number of channels). Take this into consideration while creating the model architecture."
   ]
  },
  {
   "cell_type": "code",
   "execution_count": 5,
   "metadata": {},
   "outputs": [
    {
     "name": "stdout",
     "output_type": "stream",
     "text": [
      "# training sequences = 663\n",
      "# validation sequences = 100\n",
      "# epochs = 10\n"
     ]
    }
   ],
   "source": [
    "curr_dt_time = datetime.datetime.now()\n",
    "train_path = 'Project_data/train'\n",
    "val_path = 'Project_data/val'\n",
    "num_train_sequences = len(train_doc)\n",
    "print('# training sequences =', num_train_sequences)\n",
    "num_val_sequences = len(val_doc)\n",
    "print('# validation sequences =', num_val_sequences)\n",
    "num_epochs = 10 # choose the number of epochs\n",
    "print ('# epochs =', num_epochs)"
   ]
  },
  {
   "cell_type": "code",
   "execution_count": 6,
   "metadata": {
    "collapsed": true
   },
   "outputs": [],
   "source": [
    "num_classes = 5\n",
    "#Shape to the Conv3D is initialized here\n",
    "input_shape = np.zeros((batch_size,len(image_index),compressed_image_x,compressed_image_y,3))"
   ]
  },
  {
   "cell_type": "markdown",
   "metadata": {},
   "source": [
    "## Model\n",
    "Here you make the model using different functionalities that Keras provides. Remember to use `Conv3D` and `MaxPooling3D` and not `Conv2D` and `Maxpooling2D` for a 3D convolution model. You would want to use `TimeDistributed` while building a Conv2D + RNN model. Also remember that the last layer is the softmax. Design the network in such a way that the model is able to give good accuracy on the least number of parameters so that it can fit in the memory of the webcam."
   ]
  },
  {
   "cell_type": "markdown",
   "metadata": {},
   "source": [
    "## Conv3D"
   ]
  },
  {
   "cell_type": "code",
   "execution_count": 7,
   "metadata": {
    "collapsed": true
   },
   "outputs": [],
   "source": [
    "from keras.models import Sequential, Model\n",
    "from keras.layers import Dense, GRU, Flatten, TimeDistributed, Flatten, BatchNormalization, Activation, Dropout\n",
    "from keras.layers.convolutional import Conv3D, MaxPooling3D\n",
    "from keras.callbacks import ModelCheckpoint, ReduceLROnPlateau\n",
    "from keras import optimizers\n",
    "from keras.regularizers import l2\n",
    "\n",
    "def conv3D(useMoresLayer = False):\n",
    "    # #write your model here\n",
    "    model = Sequential()\n",
    "    model.add(Conv3D(64, (3, 3, 3), padding='same', \n",
    "                    input_shape=input_shape.shape[1:]))\n",
    "    model.add(Activation('relu'))\n",
    "    model.add(BatchNormalization())\n",
    "    model.add(Conv3D(64, (3, 3, 3)))\n",
    "    model.add(Activation('relu'))\n",
    "    model.add(BatchNormalization())\n",
    "    model.add(MaxPooling3D(pool_size=(3, 3, 3)))\n",
    "    model.add(Dropout(0.30))\n",
    "    \n",
    "    if useMoresLayer:\n",
    "        model.add(Conv3D(64, (2, 2, 2), padding='same'))\n",
    "        model.add(Activation('relu'))\n",
    "        model.add(BatchNormalization())\n",
    "        model.add(Conv3D(64, (2, 2, 2)))\n",
    "        model.add(Activation('relu'))\n",
    "        model.add(BatchNormalization())\n",
    "        model.add(MaxPooling3D(pool_size=(2, 2, 2)))\n",
    "        model.add(Dropout(0.25))\n",
    "        \n",
    "        model.add(Conv3D(128, (2, 2, 2), padding='same'))\n",
    "        model.add(Activation('relu'))\n",
    "        model.add(BatchNormalization())\n",
    "        model.add(Conv3D(128, (2, 2, 2)))\n",
    "        model.add(Activation('relu'))\n",
    "        model.add(BatchNormalization())\n",
    "        model.add(MaxPooling3D(pool_size=(2, 2, 2)))\n",
    "        model.add(Dropout(0.25))\n",
    "\n",
    "    model.add(Flatten())\n",
    "    model.add(Dense(64))\n",
    "    model.add(Activation('relu'))\n",
    "    model.add(Dropout(0.4))\n",
    "    model.add(Dense(num_classes))\n",
    "    model.add(Activation('softmax'))\n",
    "    \n",
    "    return model"
   ]
  },
  {
   "cell_type": "markdown",
   "metadata": {},
   "source": [
    "## Conv2D + LSTM"
   ]
  },
  {
   "cell_type": "code",
   "execution_count": 8,
   "metadata": {
    "collapsed": true
   },
   "outputs": [],
   "source": [
    "from keras.models import Sequential, Model\n",
    "from keras.layers import Dense, GRU, Flatten, TimeDistributed, Flatten, BatchNormalization, Activation, Dropout, LSTM\n",
    "from keras.layers.convolutional import Conv3D, Conv2D, MaxPooling3D, MaxPooling2D\n",
    "from keras.callbacks import ModelCheckpoint, ReduceLROnPlateau\n",
    "from keras import optimizers\n",
    "from keras.regularizers import l2\n",
    "\n",
    "def conv2d_With_LSTM(useMoresLayer = False):\n",
    "    #write your model here\n",
    "    model = Sequential()\n",
    "\n",
    "    model.add(TimeDistributed(Conv2D(32, (3, 3), strides=(2, 2),\n",
    "                activation='relu', padding='same'), input_shape=input_shape.shape[1:]))\n",
    "    model.add(TimeDistributed(Conv2D(32, (3,3),\n",
    "                kernel_initializer=\"he_normal\", activation='relu')))\n",
    "    model.add(TimeDistributed(BatchNormalization()))\n",
    "    model.add(TimeDistributed(MaxPooling2D((2, 2), strides=(2, 2))))\n",
    "    model.add(TimeDistributed(Dropout(0.20)))\n",
    "\n",
    "    model.add(TimeDistributed(Conv2D(64, (3,3),\n",
    "                padding='same', activation='relu')))\n",
    "    model.add(TimeDistributed(Conv2D(64, (3,3),\n",
    "                padding='same', activation='relu')))\n",
    "    model.add(TimeDistributed(BatchNormalization()))\n",
    "    model.add(TimeDistributed(MaxPooling2D((2, 2), strides=(2, 2))))\n",
    "    model.add(TimeDistributed(Dropout(0.20)))\n",
    "    if useMoresLayer:\n",
    "        model.add(TimeDistributed(Conv2D(128, (3,3),\n",
    "                    padding='same', activation='relu')))\n",
    "        model.add(TimeDistributed(Conv2D(128, (3,3),\n",
    "                    padding='same', activation='relu')))\n",
    "        model.add(TimeDistributed(BatchNormalization()))\n",
    "        model.add(TimeDistributed(MaxPooling2D((2, 2), strides=(2, 2))))\n",
    "        model.add(TimeDistributed(Dropout(0.25)))\n",
    "\n",
    "        model.add(TimeDistributed(Conv2D(256, (3,3),\n",
    "                    padding='same', activation='relu')))\n",
    "        model.add(TimeDistributed(Conv2D(256, (3,3),\n",
    "                    padding='same', activation='relu')))\n",
    "        model.add(TimeDistributed(BatchNormalization()))\n",
    "        model.add(TimeDistributed(MaxPooling2D((2, 2), strides=(2, 2))))\n",
    "        model.add(TimeDistributed(Dropout(0.25)))\n",
    "\n",
    "        model.add(TimeDistributed(Conv2D(512, (3,3),\n",
    "                    padding='same', activation='relu')))\n",
    "        model.add(TimeDistributed(Conv2D(512, (3,3),\n",
    "                    padding='same', activation='relu')))\n",
    "        model.add(TimeDistributed(BatchNormalization()))\n",
    "        model.add(TimeDistributed(MaxPooling2D((2, 2), strides=(2, 2))))\n",
    "        model.add(TimeDistributed(Dropout(0.25)))\n",
    "\n",
    "    model.add(TimeDistributed(Flatten()))\n",
    "\n",
    "    #model.add(Dropout(0.5))\n",
    "    model.add(LSTM(256, return_sequences=False, dropout=0.20))\n",
    "    model.add(Dense(num_classes, activation='softmax'))\n",
    "    \n",
    "    return model\n"
   ]
  },
  {
   "cell_type": "markdown",
   "metadata": {},
   "source": [
    "## Conv2D + GRU"
   ]
  },
  {
   "cell_type": "code",
   "execution_count": 9,
   "metadata": {
    "collapsed": true
   },
   "outputs": [],
   "source": [
    "from keras.models import Sequential, Model\n",
    "from keras.layers import Dense, GRU, Flatten, TimeDistributed, Flatten, BatchNormalization, Activation, Dropout, LSTM\n",
    "from keras.layers.convolutional import Conv3D, Conv2D, MaxPooling3D, MaxPooling2D\n",
    "from keras.callbacks import ModelCheckpoint, ReduceLROnPlateau\n",
    "from keras import optimizers\n",
    "from keras.regularizers import l2\n",
    "\n",
    "def Conv2d_With_GRU(useMoresLayer = False):\n",
    "    #write your model here\n",
    "    model = Sequential()\n",
    "\n",
    "    model.add(TimeDistributed(Conv2D(32, (3, 3), strides=(2, 2),\n",
    "                activation='relu', padding='same'), input_shape=input_shape.shape[1:]))\n",
    "    model.add(TimeDistributed(Conv2D(32, (3,3),\n",
    "                kernel_initializer=\"he_normal\", activation='relu')))\n",
    "    model.add(TimeDistributed(BatchNormalization()))\n",
    "    model.add(TimeDistributed(MaxPooling2D((2, 2), strides=(2, 2))))\n",
    "    model.add(TimeDistributed(Dropout(0.20)))\n",
    "\n",
    "    model.add(TimeDistributed(Conv2D(64, (3,3),\n",
    "                padding='same', activation='relu')))\n",
    "    model.add(TimeDistributed(Conv2D(64, (3,3),\n",
    "                padding='same', activation='relu')))\n",
    "    model.add(TimeDistributed(BatchNormalization()))\n",
    "    model.add(TimeDistributed(MaxPooling2D((2, 2), strides=(2, 2))))\n",
    "    model.add(TimeDistributed(Dropout(0.20)))\n",
    "    if useMoresLayer:\n",
    "        model.add(TimeDistributed(Conv2D(128, (3,3),\n",
    "                    padding='same', activation='relu')))\n",
    "        model.add(TimeDistributed(Conv2D(128, (3,3),\n",
    "                    padding='same', activation='relu')))\n",
    "        model.add(TimeDistributed(BatchNormalization()))\n",
    "        model.add(TimeDistributed(MaxPooling2D((2, 2), strides=(2, 2))))\n",
    "        model.add(TimeDistributed(Dropout(0.25)))\n",
    "\n",
    "        model.add(TimeDistributed(Conv2D(256, (3,3),\n",
    "                    padding='same', activation='relu')))\n",
    "        model.add(TimeDistributed(Conv2D(256, (3,3),\n",
    "                    padding='same', activation='relu')))\n",
    "        model.add(TimeDistributed(BatchNormalization()))\n",
    "        model.add(TimeDistributed(MaxPooling2D((2, 2), strides=(2, 2))))\n",
    "        model.add(TimeDistributed(Dropout(0.25)))\n",
    "\n",
    "        model.add(TimeDistributed(Conv2D(512, (3,3),\n",
    "                    padding='same', activation='relu')))\n",
    "        model.add(TimeDistributed(Conv2D(512, (3,3),\n",
    "                    padding='same', activation='relu')))\n",
    "        model.add(TimeDistributed(BatchNormalization()))\n",
    "        model.add(TimeDistributed(MaxPooling2D((2, 2), strides=(2, 2))))\n",
    "        model.add(TimeDistributed(Dropout(0.25)))\n",
    "\n",
    "    model.add(TimeDistributed(Flatten()))\n",
    "\n",
    "    #model.add(Dropout(0.5))\n",
    "    model.add(GRU(256, return_sequences=False, dropout=0.20))\n",
    "    model.add(Dense(num_classes, activation='softmax'))\n",
    "    return model\n"
   ]
  },
  {
   "cell_type": "markdown",
   "metadata": {},
   "source": [
    "## Transfer Learning + LSTM/GRU (ResNet)"
   ]
  },
  {
   "cell_type": "code",
   "execution_count": 10,
   "metadata": {
    "collapsed": true
   },
   "outputs": [],
   "source": [
    "from keras.applications import ResNet50\n",
    "from keras.applications.resnet50 import preprocess_input\n",
    "from keras.models import Sequential, Model\n",
    "from keras.layers import Dense, GRU, Flatten, Input,Multiply, Masking, Reshape, TimeDistributed, Flatten, BatchNormalization, Activation, Dropout, LSTM, GlobalAveragePooling2D\n",
    "from keras.layers.convolutional import Conv3D, Conv2D, MaxPooling3D, MaxPooling2D \n",
    "from keras.callbacks import ModelCheckpoint, ReduceLROnPlateau\n",
    "from keras import optimizers\n",
    "from keras.regularizers import l2\n",
    "def Resnet_CNN_LSTM():\n",
    "    resnet = ResNet50(include_top=False, weights='imagenet', pooling = 'avg')\n",
    "    input_layer = Input(shape=input_shape.shape[1:])\n",
    "    curr_layer = TimeDistributed(resnet)(input_layer)\n",
    "    #curr_layer = Dropout(0.25)(curr_layer)\n",
    "    curr_layer = Reshape(target_shape=(input_shape.shape[1:][0], 2048))(curr_layer)\n",
    "    lstm_out = LSTM(256, dropout=0.25)(curr_layer)\n",
    "    output = Dense(output_dim=num_classes, activation='softmax')(lstm_out)\n",
    "    model = Model([input_layer], output)\n",
    "    return model\n",
    "\n",
    "def Resnet_CNN_GRU():\n",
    "    resnet = ResNet50(include_top=False, weights='imagenet', pooling = 'avg')\n",
    "    input_layer = Input(shape=input_shape.shape[1:])\n",
    "    curr_layer = TimeDistributed(resnet)(input_layer)\n",
    "    #curr_layer = Dropout(0.25)(curr_layer)\n",
    "    curr_layer = Reshape(target_shape=(input_shape.shape[1:][0], 2048))(curr_layer)\n",
    "    gru_out = GRU(256, dropout=0.25)(curr_layer)\n",
    "    output = Dense(output_dim=num_classes, activation='softmax')(gru_out)\n",
    "    model = Model([input_layer], output)\n",
    "    return model"
   ]
  },
  {
   "cell_type": "markdown",
   "metadata": {},
   "source": [
    "## Transfer Learning + LSTM (VggNet)"
   ]
  },
  {
   "cell_type": "code",
   "execution_count": 11,
   "metadata": {
    "collapsed": true
   },
   "outputs": [],
   "source": [
    "from keras.applications import vgg16\n",
    "def Vgg_CNN_LSTM():\n",
    "    vggNet = vgg16.VGG16(weights='imagenet', include_top=False, pooling='avg')\n",
    "    input_layer = Input(shape=input_shape.shape[1:])\n",
    "    curr_layer = TimeDistributed(vggNet)(input_layer)\n",
    "    #curr_layer = Dropout(0.25)(curr_layer)\n",
    "    curr_layer = Reshape(target_shape=(input_shape.shape[1:][0], 512))(curr_layer)\n",
    "    gru_out = LSTM(256, dropout=0.25)(curr_layer)\n",
    "    output = Dense(output_dim=num_classes, activation='softmax')(gru_out)\n",
    "    model = Model([input_layer], output)\n",
    "    return model"
   ]
  },
  {
   "cell_type": "markdown",
   "metadata": {},
   "source": [
    "Now that you have written the model, the next step is to `compile` the model. When you print the `summary` of the model, you'll see the total number of parameters you have to train."
   ]
  },
  {
   "cell_type": "markdown",
   "metadata": {},
   "source": [
    "## Master Function to Select Model"
   ]
  },
  {
   "cell_type": "code",
   "execution_count": 12,
   "metadata": {
    "collapsed": true
   },
   "outputs": [],
   "source": [
    "\"\"\"\n",
    "    modelName:\n",
    "                1. Resnet_CNN_LSTM\n",
    "                2. Resnet_CNN_GRU\n",
    "                3. Conv2d_With_GRU\n",
    "                4. conv2d_With_LSTM\n",
    "                5. conv3D\n",
    "                6. Vgg_CNN_LSTM\n",
    "\"\"\"\n",
    "\n",
    "def modelExecution(modelName = 'Resnet_CNN_LSTM'):\n",
    "    if modelName == 'Resnet_CNN_LSTM':\n",
    "        model = Resnet_CNN_LSTM()\n",
    "    elif modelName == 'Resnet_CNN_GRU':\n",
    "        model = Resnet_CNN_GRU()\n",
    "    elif modelName == 'Cov2d_With_GRU':\n",
    "        model = Cov2d_With_GRU()\n",
    "    elif modelName == 'conv2d_With_LSTM':\n",
    "        model = conv2d_With_LSTM()\n",
    "    elif modelName == 'Vgg_CNN_LSTM':\n",
    "        model = Vgg_CNN_LSTM()\n",
    "    else:\n",
    "        model = conv3D()\n",
    "    return model, modelName"
   ]
  },
  {
   "cell_type": "markdown",
   "metadata": {},
   "source": [
    "## Final Model Selection and Execution"
   ]
  },
  {
   "cell_type": "code",
   "execution_count": 13,
   "metadata": {},
   "outputs": [
    {
     "name": "stderr",
     "output_type": "stream",
     "text": [
      "C:\\Users\\hruda\\Anaconda3\\envs\\tensorflow\\lib\\site-packages\\ipykernel_launcher.py:16: UserWarning: Update your `Dense` call to the Keras 2 API: `Dense(units=5, activation=\"softmax\")`\n",
      "  app.launch_new_instance()\n"
     ]
    }
   ],
   "source": [
    "model, modelName = modelExecution(modelName = 'Resnet_CNN_LSTM')"
   ]
  },
  {
   "cell_type": "code",
   "execution_count": 14,
   "metadata": {
    "scrolled": false
   },
   "outputs": [
    {
     "name": "stdout",
     "output_type": "stream",
     "text": [
      "_________________________________________________________________\n",
      "Layer (type)                 Output Shape              Param #   \n",
      "=================================================================\n",
      "input_2 (InputLayer)         (None, 15, 40, 40, 3)     0         \n",
      "_________________________________________________________________\n",
      "time_distributed_1 (TimeDist (None, 15, 2048)          23587712  \n",
      "_________________________________________________________________\n",
      "reshape_1 (Reshape)          (None, 15, 2048)          0         \n",
      "_________________________________________________________________\n",
      "lstm_1 (LSTM)                (None, 256)               2360320   \n",
      "_________________________________________________________________\n",
      "dense_1 (Dense)              (None, 5)                 1285      \n",
      "=================================================================\n",
      "Total params: 25,949,317\n",
      "Trainable params: 25,896,197\n",
      "Non-trainable params: 53,120\n",
      "_________________________________________________________________\n",
      "None\n"
     ]
    }
   ],
   "source": [
    "optimiser = 'SGD'#write your optimizer\n",
    "model.compile(optimizer=optimiser, loss='categorical_crossentropy', metrics=['categorical_accuracy'])\n",
    "print (model.summary())"
   ]
  },
  {
   "cell_type": "markdown",
   "metadata": {},
   "source": [
    "Let us create the `train_generator` and the `val_generator` which will be used in `.fit_generator`."
   ]
  },
  {
   "cell_type": "code",
   "execution_count": 15,
   "metadata": {
    "collapsed": true
   },
   "outputs": [],
   "source": [
    "train_generator = generator(train_path, train_doc, batch_size)\n",
    "val_generator = generator(val_path, val_doc, batch_size)"
   ]
  },
  {
   "cell_type": "code",
   "execution_count": 16,
   "metadata": {
    "collapsed": true
   },
   "outputs": [],
   "source": [
    "class DecayLR(keras.callbacks.Callback):\n",
    "    def __init__(self, base_lr=0.1, decay_epoch=1):\n",
    "        super(DecayLR, self).__init__()\n",
    "        self.base_lr = base_lr\n",
    "        self.decay_epoch = decay_epoch \n",
    "        self.lr_history = []\n",
    "        \n",
    "    def on_train_begin(self, logs={}):\n",
    "        K.set_value(self.model.optimizer.lr, self.base_lr)\n",
    "\n",
    "    def on_epoch_end(self, epoch, logs={}):\n",
    "        new_lr = self.base_lr * (0.5 ** (epoch // self.decay_epoch))\n",
    "        self.lr_history.append(K.get_value(self.model.optimizer.lr))\n",
    "        K.set_value(self.model.optimizer.lr, new_lr)"
   ]
  },
  {
   "cell_type": "code",
   "execution_count": 17,
   "metadata": {
    "collapsed": true
   },
   "outputs": [],
   "source": [
    "model_name = modelName + '_' + str(curr_dt_time).replace(' ','').replace(':','_') + '/'\n",
    "    \n",
    "if not os.path.exists(model_name):\n",
    "    os.mkdir(model_name)\n",
    "        \n",
    "filepath = model_name + 'model-{epoch:05d}-{loss:.5f}-{categorical_accuracy:.5f}-{val_loss:.5f}-{val_categorical_accuracy:.5f}.h5'\n",
    "\n",
    "checkpoint = ModelCheckpoint(filepath, monitor='val_loss', verbose=1, save_best_only=False, save_weights_only=False, mode='auto', period=1)\n",
    "\n",
    "LR = DecayLR() # write the REducelronplateau code here\n",
    "#auc_logger = roc_callback()\n",
    "#callbacks_list = [checkpoint, LR, auc_logger]\n",
    "callbacks_list = [checkpoint, LR]"
   ]
  },
  {
   "cell_type": "markdown",
   "metadata": {},
   "source": [
    "The `steps_per_epoch` and `validation_steps` are used by `fit_generator` to decide the number of next() calls it need to make."
   ]
  },
  {
   "cell_type": "code",
   "execution_count": 18,
   "metadata": {
    "collapsed": true
   },
   "outputs": [],
   "source": [
    "if (num_train_sequences%batch_size) == 0:\n",
    "    steps_per_epoch = int(num_train_sequences/batch_size)\n",
    "else:\n",
    "    steps_per_epoch = (num_train_sequences//batch_size) + 1\n",
    "\n",
    "if (num_val_sequences%batch_size) == 0:\n",
    "    validation_steps = int(num_val_sequences/batch_size)\n",
    "else:\n",
    "    \n",
    "    validation_steps = (num_val_sequences//batch_size) + 1"
   ]
  },
  {
   "cell_type": "markdown",
   "metadata": {},
   "source": [
    "Let us now fit the model. This will start training the model and with the help of the checkpoints, you'll be able to save the model at the end of each epoch."
   ]
  },
  {
   "cell_type": "code",
   "execution_count": 19,
   "metadata": {
    "scrolled": false
   },
   "outputs": [
    {
     "name": "stdout",
     "output_type": "stream",
     "text": [
      "Epoch 1/10\n",
      "Source path =  Project_data/val ; batch size = 20\n",
      "Source path =  Project_data/train ; batch size = 20\n",
      "34/34 [==============================] - 161s 5s/step - loss: 1.1920 - categorical_accuracy: 0.5235 - val_loss: 2.3100 - val_categorical_accuracy: 0.3400\n",
      "\n",
      "Epoch 00001: saving model to Resnet_CNN_LSTM_2019-03-1607_51_10.774855/model-00001-1.19202-0.52353-2.31004-0.34000.h5\n",
      "Epoch 2/10\n",
      "34/34 [==============================] - 218s 6s/step - loss: 0.5959 - categorical_accuracy: 0.7603 - val_loss: 1.8790 - val_categorical_accuracy: 0.4800\n",
      "\n",
      "Epoch 00002: saving model to Resnet_CNN_LSTM_2019-03-1607_51_10.774855/model-00002-0.59585-0.76029-1.87898-0.48000.h5\n",
      "Epoch 3/10\n",
      "34/34 [==============================] - 218s 6s/step - loss: 0.2505 - categorical_accuracy: 0.9015 - val_loss: 1.1392 - val_categorical_accuracy: 0.6200\n",
      "\n",
      "Epoch 00003: saving model to Resnet_CNN_LSTM_2019-03-1607_51_10.774855/model-00003-0.25045-0.90147-1.13923-0.62000.h5\n",
      "Epoch 4/10\n",
      "34/34 [==============================] - 218s 6s/step - loss: 0.1046 - categorical_accuracy: 0.9456 - val_loss: 0.6083 - val_categorical_accuracy: 0.8100\n",
      "\n",
      "Epoch 00004: saving model to Resnet_CNN_LSTM_2019-03-1607_51_10.774855/model-00004-0.10456-0.94559-0.60832-0.81000.h5\n",
      "Epoch 5/10\n",
      "34/34 [==============================] - 218s 6s/step - loss: 0.0454 - categorical_accuracy: 0.9647 - val_loss: 0.4999 - val_categorical_accuracy: 0.8400\n",
      "\n",
      "Epoch 00005: saving model to Resnet_CNN_LSTM_2019-03-1607_51_10.774855/model-00005-0.04535-0.96471-0.49989-0.84000.h5\n",
      "Epoch 6/10\n",
      "34/34 [==============================] - 218s 6s/step - loss: 0.0643 - categorical_accuracy: 0.9588 - val_loss: 0.4496 - val_categorical_accuracy: 0.8600\n",
      "\n",
      "Epoch 00006: saving model to Resnet_CNN_LSTM_2019-03-1607_51_10.774855/model-00006-0.06430-0.95882-0.44962-0.86000.h5\n",
      "Epoch 7/10\n",
      "34/34 [==============================] - 218s 6s/step - loss: 0.0404 - categorical_accuracy: 0.9662 - val_loss: 0.4219 - val_categorical_accuracy: 0.8700\n",
      "\n",
      "Epoch 00007: saving model to Resnet_CNN_LSTM_2019-03-1607_51_10.774855/model-00007-0.04036-0.96618-0.42191-0.87000.h5\n",
      "Epoch 8/10\n",
      "34/34 [==============================] - 218s 6s/step - loss: 0.0520 - categorical_accuracy: 0.9647 - val_loss: 0.4130 - val_categorical_accuracy: 0.8600\n",
      "\n",
      "Epoch 00008: saving model to Resnet_CNN_LSTM_2019-03-1607_51_10.774855/model-00008-0.05204-0.96471-0.41305-0.86000.h5\n",
      "Epoch 9/10\n",
      "34/34 [==============================] - 218s 6s/step - loss: 0.0493 - categorical_accuracy: 0.9632 - val_loss: 0.3955 - val_categorical_accuracy: 0.8600\n",
      "\n",
      "Epoch 00009: saving model to Resnet_CNN_LSTM_2019-03-1607_51_10.774855/model-00009-0.04927-0.96324-0.39547-0.86000.h5\n",
      "Epoch 10/10\n",
      "34/34 [==============================] - 218s 6s/step - loss: 0.0328 - categorical_accuracy: 0.9691 - val_loss: 0.3894 - val_categorical_accuracy: 0.8700\n",
      "\n",
      "Epoch 00010: saving model to Resnet_CNN_LSTM_2019-03-1607_51_10.774855/model-00010-0.03281-0.96912-0.38936-0.87000.h5\n"
     ]
    }
   ],
   "source": [
    "modelExec_History = model.fit_generator(train_generator, steps_per_epoch=steps_per_epoch, epochs=num_epochs, verbose=1, \n",
    "                    callbacks=callbacks_list, validation_data=val_generator, \n",
    "                    validation_steps=validation_steps, class_weight=None, workers=1, initial_epoch=0)"
   ]
  },
  {
   "cell_type": "code",
   "execution_count": 21,
   "metadata": {},
   "outputs": [
    {
     "name": "stdout",
     "output_type": "stream",
     "text": [
      "dict_keys(['categorical_accuracy', 'val_loss', 'val_categorical_accuracy', 'loss'])\n"
     ]
    },
    {
     "data": {
      "image/png": "[encoded data removed]",
      "text/plain": [
       "<Figure size 432x288 with 1 Axes>"
      ]
     },
     "metadata": {
      "needs_background": "light"
     },
     "output_type": "display_data"
    },
    {
     "data": {
      "image/png": "[encoded data removed]",
      "text/plain": [
       "<Figure size 432x288 with 1 Axes>"
      ]
     },
     "metadata": {
      "needs_background": "light"
     },
     "output_type": "display_data"
    }
   ],
   "source": [
    "# list all data in history\n",
    "import matplotlib.pyplot as plt\n",
    "print(modelExec_History.history.keys())\n",
    "# summarize history for accuracy\n",
    "plt.plot(modelExec_History.history['categorical_accuracy'])\n",
    "plt.plot(modelExec_History.history['val_categorical_accuracy'])\n",
    "plt.title('model accuracy')\n",
    "plt.ylabel('accuracy')\n",
    "plt.xlabel('epoch')\n",
    "plt.legend(['train', 'test'], loc='upper left')\n",
    "plt.show()\n",
    "# summarize history for loss\n",
    "plt.plot(modelExec_History.history['loss'])\n",
    "plt.plot(modelExec_History.history['val_loss'])\n",
    "plt.title('model loss')\n",
    "plt.ylabel('loss')\n",
    "plt.xlabel('epoch')\n",
    "plt.legend(['train', 'test'], loc='upper left')\n",
    "plt.show()"
   ]
  }
 ],
 "metadata": {
  "kernelspec": {
   "display_name": "Python 3",
   "language": "python",
   "name": "python3"
  },
  "language_info": {
   "codemirror_mode": {
    "name": "ipython",
    "version": 3
   },
   "file_extension": ".py",
   "mimetype": "text/x-python",
   "name": "python",
   "nbconvert_exporter": "python",
   "pygments_lexer": "ipython3",
   "version": "3.5.4"
  }
 },
 "nbformat": 4,
 "nbformat_minor": 2
}
